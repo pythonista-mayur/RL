{
  "nbformat": 4,
  "nbformat_minor": 0,
  "metadata": {
    "colab": {
      "name": "cartplole_hill_climb.ipynb",
      "version": "0.3.2",
      "provenance": [],
      "include_colab_link": true
    },
    "kernelspec": {
      "name": "python3",
      "display_name": "Python 3"
    }
  },
  "cells": [
    {
      "cell_type": "markdown",
      "metadata": {
        "id": "view-in-github",
        "colab_type": "text"
      },
      "source": [
        "[View in Colaboratory](https://colab.research.google.com/github/pythonista-mayur/RL/blob/master/openAI%20gym/cartplole_hill_climb.ipynb)"
      ]
    },
    {
      "metadata": {
        "id": "gMnL7dKGUV3S",
        "colab_type": "code",
        "colab": {}
      },
      "cell_type": "code",
      "source": [
        ""
      ],
      "execution_count": 0,
      "outputs": []
    },
    {
      "metadata": {
        "id": "AxyPRUITUYFi",
        "colab_type": "code",
        "colab": {}
      },
      "cell_type": "code",
      "source": [
        "!pip install gym\n"
      ],
      "execution_count": 0,
      "outputs": []
    },
    {
      "metadata": {
        "id": "3wm1Hog0fTfr",
        "colab_type": "code",
        "colab": {}
      },
      "cell_type": "code",
      "source": [
        "import gym\n"
      ],
      "execution_count": 0,
      "outputs": []
    },
    {
      "metadata": {
        "id": "H7wVF5UKfXpO",
        "colab_type": "code",
        "colab": {
          "base_uri": "https://localhost:8080/",
          "height": 34
        },
        "outputId": "52c8bf5d-dd6c-42d4-9f58-6a4f1f3ce232"
      },
      "cell_type": "code",
      "source": [
        "env = gym.make('CartPole-v0') \n"
      ],
      "execution_count": 8,
      "outputs": [
        {
          "output_type": "stream",
          "text": [
            "\u001b[33mWARN: gym.spaces.Box autodetected dtype as <class 'numpy.float32'>. Please provide explicit dtype.\u001b[0m\n"
          ],
          "name": "stdout"
        }
      ]
    },
    {
      "metadata": {
        "id": "IKXJCf8_lacO",
        "colab_type": "code",
        "colab": {}
      },
      "cell_type": "code",
      "source": [
        "obs = env.reset()"
      ],
      "execution_count": 0,
      "outputs": []
    },
    {
      "metadata": {
        "id": "qHiG12ClfeYX",
        "colab_type": "code",
        "colab": {
          "base_uri": "https://localhost:8080/",
          "height": 72
        },
        "outputId": "cfb019df-3e25-4709-e00f-a16647cf6581"
      },
      "cell_type": "code",
      "source": [
        "env.step(env.action_space.sample())\n"
      ],
      "execution_count": 19,
      "outputs": [
        {
          "output_type": "stream",
          "text": [
            "\u001b[33mWARN: You are calling 'step()' even though this environment has already returned done = True. You should always call 'reset()' once you receive 'done = True' -- any further steps are undefined behavior.\u001b[0m\n"
          ],
          "name": "stdout"
        },
        {
          "output_type": "execute_result",
          "data": {
            "text/plain": [
              "(array([ 0.19896638,  1.17117978, -0.27803868, -2.07738419]), 0.0, True, {})"
            ]
          },
          "metadata": {
            "tags": []
          },
          "execution_count": 19
        }
      ]
    },
    {
      "metadata": {
        "id": "mlXlI-XkfkaY",
        "colab_type": "code",
        "colab": {}
      },
      "cell_type": "code",
      "source": [
        "def run_episode(env, params)"
      ],
      "execution_count": 0,
      "outputs": []
    },
    {
      "metadata": {
        "id": "OchJ-XxMfn07",
        "colab_type": "code",
        "colab": {}
      },
      "cell_type": "code",
      "source": [
        "!apt-get install python-opengl\n"
      ],
      "execution_count": 0,
      "outputs": []
    },
    {
      "metadata": {
        "id": "0p5pH8GSfyZ5",
        "colab_type": "code",
        "colab": {
          "base_uri": "https://localhost:8080/",
          "height": 34
        },
        "outputId": "1bf34e13-25f1-4743-ad4a-f93aa7d6c4e0"
      },
      "cell_type": "code",
      "source": [
        "env.step(env.action_space.sample())"
      ],
      "execution_count": 27,
      "outputs": [
        {
          "output_type": "execute_result",
          "data": {
            "text/plain": [
              "(array([ 0.1200707 , -0.17449768, -0.11850369,  0.13586393]), 1.0, False, {})"
            ]
          },
          "metadata": {
            "tags": []
          },
          "execution_count": 27
        }
      ]
    },
    {
      "metadata": {
        "id": "-5oiSszOf_GO",
        "colab_type": "code",
        "colab": {
          "base_uri": "https://localhost:8080/",
          "height": 34
        },
        "outputId": "a82293f4-adea-4880-c218-98099fe3162f"
      },
      "cell_type": "code",
      "source": [
        "env.action_space.sample()"
      ],
      "execution_count": 15,
      "outputs": [
        {
          "output_type": "execute_result",
          "data": {
            "text/plain": [
              "1"
            ]
          },
          "metadata": {
            "tags": []
          },
          "execution_count": 15
        }
      ]
    },
    {
      "metadata": {
        "id": "HL1_qQnbmL2k",
        "colab_type": "code",
        "colab": {}
      },
      "cell_type": "code",
      "source": [
        "import numpy as np\n",
        "parameters = 2 * np.random.rand(4) - 1"
      ],
      "execution_count": 0,
      "outputs": []
    },
    {
      "metadata": {
        "id": "g-fEhEsvjayT",
        "colab_type": "code",
        "colab": {}
      },
      "cell_type": "code",
      "source": [
        "def run_episode(env, parameters):\n",
        "  observation = env.reset()\n",
        "  total_reward = 0\n",
        "  for _ in range(300):\n",
        "    action = 0 if np.matmul(parameters, observation) < 0 else 1\n",
        "    observation, reward, done, info = env.step(action)\n",
        "    total_reward += reward\n",
        "    if done:\n",
        "      break\n",
        "  return total_reward  \n",
        "    "
      ],
      "execution_count": 0,
      "outputs": []
    },
    {
      "metadata": {
        "id": "6SHifAPAn43e",
        "colab_type": "code",
        "colab": {
          "base_uri": "https://localhost:8080/",
          "height": 34
        },
        "outputId": "424481ed-50d2-41ef-8771-ea153f4330fb"
      },
      "cell_type": "code",
      "source": [
        "run_episode(env,parameters)"
      ],
      "execution_count": 74,
      "outputs": [
        {
          "output_type": "execute_result",
          "data": {
            "text/plain": [
              "54.0"
            ]
          },
          "metadata": {
            "tags": []
          },
          "execution_count": 74
        }
      ]
    },
    {
      "metadata": {
        "id": "tKi9d4XWn-52",
        "colab_type": "code",
        "colab": {
          "base_uri": "https://localhost:8080/",
          "height": 34
        },
        "outputId": "32c2378a-2ab3-4962-a206-63bb700287e2"
      },
      "cell_type": "code",
      "source": [
        "#now we can use the hill climb algorithm for finding the weights that return the maximum reward:\n",
        "noise_scaling = 0.2\n",
        "params = 2 * np.random.rand(4) - 1\n",
        "best_reward = 0\n",
        "for _ in range(10000):\n",
        "  new_params = params *  (2*np.random.rand(4) - 1)*noise_scaling\n",
        "  reward = run_episode(env,new_params)\n",
        "  if reward > best_reward:\n",
        "    best_reward = reward\n",
        "    params = new_params\n",
        "    if reward == 300:\n",
        "      break\n",
        "print(best_reward,params)"
      ],
      "execution_count": 88,
      "outputs": [
        {
          "output_type": "stream",
          "text": [
            "200.0 [1.21944980e-08 4.05197005e-08 6.91784630e-08 6.79273196e-08]\n"
          ],
          "name": "stdout"
        }
      ]
    },
    {
      "metadata": {
        "id": "bCoeTYvtsfjB",
        "colab_type": "code",
        "colab": {}
      },
      "cell_type": "code",
      "source": [
        "observation = env.reset()\n",
        "done = False\n",
        "count = 0\n",
        "while not done:\n",
        "  observation,reward,done, info = env.step(0 if np.matmul(params,observation) < 0 else 1)\n",
        "  count += 1"
      ],
      "execution_count": 0,
      "outputs": []
    },
    {
      "metadata": {
        "id": "CD3UXJk_L-bq",
        "colab_type": "code",
        "colab": {
          "base_uri": "https://localhost:8080/",
          "height": 34
        },
        "outputId": "a68c3291-6e7f-4c20-f653-f94f6ee565eb"
      },
      "cell_type": "code",
      "source": [
        "print(count)"
      ],
      "execution_count": 90,
      "outputs": [
        {
          "output_type": "stream",
          "text": [
            "200\n"
          ],
          "name": "stdout"
        }
      ]
    },
    {
      "metadata": {
        "id": "peGIWvryNVq8",
        "colab_type": "code",
        "colab": {}
      },
      "cell_type": "code",
      "source": [
        ""
      ],
      "execution_count": 0,
      "outputs": []
    }
  ]
}